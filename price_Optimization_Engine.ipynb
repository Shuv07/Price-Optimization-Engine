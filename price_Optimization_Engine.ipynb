{
  "nbformat": 4,
  "nbformat_minor": 0,
  "metadata": {
    "colab": {
      "provenance": [],
      "authorship_tag": "ABX9TyOBDcyNFD2grnm5+xNx4wCB",
      "include_colab_link": true
    },
    "kernelspec": {
      "name": "python3",
      "display_name": "Python 3"
    },
    "language_info": {
      "name": "python"
    }
  },
  "cells": [
    {
      "cell_type": "markdown",
      "metadata": {
        "id": "view-in-github",
        "colab_type": "text"
      },
      "source": [
        "<a href=\"https://colab.research.google.com/github/Shuv07/Price-Optimization-Engine/blob/main/price_Optimization_Engine.ipynb\" target=\"_parent\"><img src=\"https://colab.research.google.com/assets/colab-badge.svg\" alt=\"Open In Colab\"/></a>"
      ]
    },
    {
      "cell_type": "code",
      "execution_count": 11,
      "metadata": {
        "colab": {
          "base_uri": "https://localhost:8080/"
        },
        "id": "v8YjBnspHRos",
        "outputId": "eed74e34-3b0c-4780-8ba8-cb2310556585"
      },
      "outputs": [
        {
          "output_type": "stream",
          "name": "stdout",
          "text": [
            "Mean Squared Error: 168.50958572863485\n",
            "Recommended Price: $18.988164150540584\n"
          ]
        },
        {
          "output_type": "stream",
          "name": "stderr",
          "text": [
            "/usr/local/lib/python3.10/dist-packages/sklearn/base.py:439: UserWarning: X does not have valid feature names, but RandomForestRegressor was fitted with feature names\n",
            "  warnings.warn(\n"
          ]
        }
      ],
      "source": [
        "# Import necessary libraries\n",
        "import pandas as pd\n",
        "from sklearn.model_selection import train_test_split\n",
        "from sklearn.ensemble import RandomForestRegressor\n",
        "from sklearn.metrics import mean_squared_error\n",
        "from datetime import datetime\n",
        "\n",
        "# Load historical sales data\n",
        "sales_data = pd.read_csv('sales_data.csv')\n",
        "\n",
        "# Feature engineering\n",
        "sales_data['Date'] = pd.to_datetime(sales_data['Date'])\n",
        "sales_data['DayOfWeek'] = sales_data['Date'].dt.dayofweek\n",
        "sales_data['Month'] = sales_data['Date'].dt.month\n",
        "sales_data['Year'] = sales_data['Date'].dt.year\n",
        "\n",
        "# Split data into training and testing sets\n",
        "train_data, test_data = train_test_split(sales_data, test_size=0.2, random_state=42)\n",
        "\n",
        "# Define features and target variable\n",
        "features = ['DayOfWeek', 'Month', 'Year', 'Inventory', 'TermsOfTrade', 'Margins']\n",
        "target = 'Price'\n",
        "\n",
        "# Train a Random Forest Regressor model\n",
        "model = RandomForestRegressor()\n",
        "model.fit(train_data[features], train_data[target])\n",
        "\n",
        "# Make predictions on test data\n",
        "predictions = model.predict(test_data[features])\n",
        "\n",
        "# Evaluate the model\n",
        "mse = mean_squared_error(test_data[target], predictions)\n",
        "print(f'Mean Squared Error: {mse}')\n",
        "\n",
        "# Function to recommend price based on input parameters\n",
        "def recommend_price(day_of_week, month, year, inventory, terms_of_trade, margins):\n",
        "    input_data = [[day_of_week, month, year, inventory, terms_of_trade, margins]]\n",
        "    predicted_price = model.predict(input_data)\n",
        "    return predicted_price[0]\n",
        "\n",
        "# Example usage\n",
        "recommended_price = recommend_price(1,8,2023,-50,0.2,0.15)\n",
        "print(f'Recommended Price: ${recommended_price}')"
      ]
    },
    {
      "cell_type": "code",
      "source": [],
      "metadata": {
        "id": "tM6WZhbRHurr"
      },
      "execution_count": 11,
      "outputs": []
    }
  ]
}